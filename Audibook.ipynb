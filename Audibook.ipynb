{
 "cells": [
  {
   "cell_type": "code",
   "execution_count": null,
   "id": "1ed90dc5",
   "metadata": {},
   "outputs": [],
   "source": [
    "# Installing libraries\n",
    "\n",
    "import PyPDF2\n",
    "import pyttsx3\n",
    "\n",
    "pdfReader = PyPDF2.PdfReader(open(r\"C:\\Users\\LENOVO\\Downloads\\ComputerOrganizationandArchitecture.pdf\", \"rb\"))\n",
    "speaker = pyttsx3.init() # initialising pyttsx3 library\n",
    "\n",
    "# entering rate of speech\n",
    "rate = int(input(\"Enter the rate of speaking:\"))\n",
    "speaker.setProperty(\"rate\", rate)\n",
    "\n",
    "# Entering the volume of speech\n",
    "volume = float(input(\"Enter the volume ranging between 0 and 1:\"))\n",
    "speaker.setProperty(\"volume\", volume)\n",
    "\n",
    "# Entering the voice over and getting the current voice\n",
    "voices = speaker.getProperty(\"voices\")\n",
    "print(\"Current voice is:\", voices)\n",
    "voice = speaker.setProperty(\"voice\", voices[1].id)\n",
    "\n",
    "print(\"number of pages:\", len(pdfReader.pages)) # Getting the number of pages in pdf file\n",
    "x = int(input(\"Enter the page you want your audiobook to start from:\"))\n",
    "\n",
    "for page_num in range(len(pdfReader.pages)):\n",
    "    text = pdfReader.pages[x].extract_text()\n",
    "    speaker.say(text)\n",
    "    speaker.runAndWait()\n",
    "speaker.stop()"
   ]
  }
 ],
 "metadata": {
  "kernelspec": {
   "display_name": "Python 3 (ipykernel)",
   "language": "python",
   "name": "python3"
  },
  "language_info": {
   "codemirror_mode": {
    "name": "ipython",
    "version": 3
   },
   "file_extension": ".py",
   "mimetype": "text/x-python",
   "name": "python",
   "nbconvert_exporter": "python",
   "pygments_lexer": "ipython3",
   "version": "3.10.5"
  }
 },
 "nbformat": 4,
 "nbformat_minor": 5
}
